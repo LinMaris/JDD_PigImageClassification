{
 "cells": [
  {
   "cell_type": "markdown",
   "metadata": {},
   "source": [
    "### 图像预处理，图像路径获取"
   ]
  },
  {
   "cell_type": "markdown",
   "metadata": {},
   "source": [
    "读取类别，子路径获取"
   ]
  },
  {
   "cell_type": "code",
   "execution_count": 2,
   "metadata": {
    "collapsed": true
   },
   "outputs": [],
   "source": [
    "from jpg_data_preprocess import *\n",
    "\n",
    "# 来源\n",
    "train_dir = 'pig_pic_src_processed_1_part1/train/'\n",
    "valid_dir = 'pig_pic_src_processed_1_part1/valid/'\n",
    "\n",
    "# 目的\n",
    "processed_train_dir = 'pig_pic_src_processed_combine/train/'\n",
    "processed_valid_dir = 'pig_pic_src_processed_combine/valid/'"
   ]
  },
  {
   "cell_type": "markdown",
   "metadata": {},
   "source": [
    "图像预处理\n",
    "\n",
    "    jpg -> process -> jpg"
   ]
  },
  {
   "cell_type": "code",
   "execution_count": 3,
   "metadata": {},
   "outputs": [
    {
     "name": "stdout",
     "output_type": "stream",
     "text": [
      "pig_pic_src_processed_1_part1/train/01.pig -> pig_pic_src_processed_combine/train/01.pig#  start process\n",
      "10 images processed\n",
      "20 images processed\n",
      "30 images processed\n",
      "40 images processed\n",
      "50 images processed\n",
      "60 images processed\n",
      "70 images processed\n",
      "80 images processed\n",
      "90 images processed\n",
      "98 images processed\n",
      "pig_pic_src_processed_1_part1/train/02.pig -> pig_pic_src_processed_combine/train/02.pig#  start process\n",
      "10 images processed\n",
      "20 images processed\n",
      "30 images processed\n",
      "40 images processed\n",
      "50 images processed\n",
      "60 images processed\n",
      "70 images processed\n",
      "80 images processed\n",
      "90 images processed\n",
      "100 images processed\n",
      "110 images processed\n",
      "120 images processed\n",
      "130 images processed\n",
      "140 images processed\n",
      "pig_pic_src_processed_1_part1/valid/01.pig -> pig_pic_src_processed_combine/valid/01.pig#  start process\n",
      "3 images processed\n",
      "pig_pic_src_processed_1_part1/valid/02.pig -> pig_pic_src_processed_combine/valid/02.pig#  start process\n",
      "5 images processed\n"
     ]
    }
   ],
   "source": [
    "preprocess_all_pics(train_dir, processed_train_dir, random_crop_window = [448, 448], data_plus = 10, train = True)\n",
    "preprocess_all_pics(valid_dir, processed_valid_dir, train = False)"
   ]
  },
  {
   "cell_type": "code",
   "execution_count": null,
   "metadata": {
    "collapsed": true
   },
   "outputs": [],
   "source": []
  }
 ],
 "metadata": {
  "kernelspec": {
   "display_name": "Python 3",
   "language": "python",
   "name": "python3"
  },
  "language_info": {
   "codemirror_mode": {
    "name": "ipython",
    "version": 3
   },
   "file_extension": ".py",
   "mimetype": "text/x-python",
   "name": "python",
   "nbconvert_exporter": "python",
   "pygments_lexer": "ipython3",
   "version": "3.5.4"
  },
  "widgets": {
   "state": {},
   "version": "1.1.2"
  }
 },
 "nbformat": 4,
 "nbformat_minor": 2
}
