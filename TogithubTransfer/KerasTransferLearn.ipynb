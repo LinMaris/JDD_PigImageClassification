{
 "cells": [
  {
   "cell_type": "code",
   "execution_count": null,
   "metadata": {
    "collapsed": true
   },
   "outputs": [],
   "source": [
    "## 准备图片数据\n",
    "train_data_dir = \"E:/DeepLearning/PigRecog/TransferLearn/pigImages/train5\"\n",
    "validation_data_dir = \"E:/DeepLearning/PigRecog/TransferLearn/pigImages/valid5\"\n",
    "img_width, img_height = 299,299\n",
    "\n",
    "###\n",
    "from keras.preprocessing.image import ImageDataGenerator\n",
    "import numpy as np\n",
    "datagen = ImageDataGenerator(rescale=1./255)\n",
    "train_datagen = ImageDataGenerator(rescale=1./255,\n",
    "        channel_shift_range=10,\n",
    "        rotation_range=20,                           \n",
    "        #shear_ range=0.2,                        \n",
    "        zoom_range=0.2)\n",
    "\n",
    "test_datagen = ImageDataGenerator(rescale=1./255)\n",
    "\n",
    "train_generator = train_datagen.flow_from_directory(\n",
    "        train_data_dir , # 请自行修改文件所在目录\n",
    "        target_size=(img_height, img_width),\n",
    "        batch_size=16,\n",
    "        class_mode='categorical',\n",
    "        shuffle=False) \n",
    "#　验证集图像生成器\n",
    "valid_generator= test_datagen .flow_from_directory(\n",
    "        validation_data_dir,# 请自行修改文件所在目录\n",
    "        target_size=(img_height, img_width),\n",
    "        batch_size=16,\n",
    "        class_mode='categorical',\n",
    "        shuffle=False)\n"
   ]
  },
  {
   "cell_type": "code",
   "execution_count": null,
   "metadata": {
    "collapsed": true
   },
   "outputs": [],
   "source": [
    "### \n",
    "from keras.layers import Dense, Flatten\n",
    "from keras.models import Sequential\n",
    "from keras.layers import GlobalAveragePooling2D\n",
    "from keras.layers import Conv2D, MaxPooling2D,Dropout\n",
    "from keras import regularizers,initializers\n",
    "from keras.models import Model\n",
    "from keras.applications.inception_resnet_v2  import InceptionResNetV2   #Xception \n",
    "model = InceptionResNetV2 (weights='imagenet', include_top=False,input_shape = (img_width, img_height,3))\n",
    "model.load_weights(\"C:/Users/Administrator/.keras/models/inception_resnet_v2_weights_tf_dim_ordering_tf_kernels_notop.h5\")\n",
    "# “小网络”结构\n",
    "x = model.output\n",
    "x = Flatten(input_shape=model.output_shape[1:])(x)\n",
    "x = Dense(128, activation='relu', name='fc2',kernel_regularizer=regularizers.l2(0.01))(x)   \n",
    "predictions = Dense(30, activation='softmax')(x)\n",
    "# 两个网络整合\n",
    "vgg_model = Model(input=model.input, output=predictions)\n",
    "vgg_model.summary()"
   ]
  },
  {
   "cell_type": "code",
   "execution_count": null,
   "metadata": {
    "collapsed": true
   },
   "outputs": [],
   "source": [
    "### 冻结权重\n",
    "for layer in vgg_model.layers[:438]:\n",
    "    layer.trainable = False\n",
    "###\n",
    "vgg_model.compile(loss='categorical_crossentropy', optimizer='Adam', # sgd  Adadelta  RMSprop Adadelta\n",
    "                  metrics=['accuracy'])\n"
   ]
  },
  {
   "cell_type": "code",
   "execution_count": null,
   "metadata": {
    "collapsed": true
   },
   "outputs": [],
   "source": [
    "from keras.callbacks import ModelCheckpoint \n",
    "# train the model\n",
    "epochs = 100\n",
    "nb_train_samples = 4886\n",
    "nb_validation_samples = 119\n",
    "\n",
    "batch_size = 16\n",
    "#\n",
    "checkpointer = ModelCheckpoint(filepath='vgg16.weights.best.hdf5', verbose=1, #Xcp\n",
    "                               save_best_only=True)\n",
    "vgg_model.fit_generator(train_generator, steps_per_epoch=nb_train_samples // batch_size,\n",
    "        epochs=epochs,\n",
    "        validation_data=valid_generator,\n",
    "        validation_steps=nb_validation_samples // batch_size,\n",
    "        callbacks=[checkpointer], verbose=1, shuffle=True)"
   ]
  }
 ],
 "metadata": {
  "kernelspec": {
   "display_name": "Python 3",
   "language": "python",
   "name": "python3"
  },
  "language_info": {
   "codemirror_mode": {
    "name": "ipython",
    "version": 3
   },
   "file_extension": ".py",
   "mimetype": "text/x-python",
   "name": "python",
   "nbconvert_exporter": "python",
   "pygments_lexer": "ipython3",
   "version": "3.5.4"
  }
 },
 "nbformat": 4,
 "nbformat_minor": 2
}
